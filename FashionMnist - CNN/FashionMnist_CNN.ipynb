{
  "cells": [
    {
      "cell_type": "markdown",
      "metadata": {
        "id": "tegGwIIsxkoB"
      },
      "source": [
        "##CNN for classification on Fashion Mnist dataset\n"
      ]
    },
    {
      "cell_type": "code",
      "source": [
        "import keras"
      ],
      "metadata": {
        "id": "9GrstGqQlByC"
      },
      "execution_count": 46,
      "outputs": []
    },
    {
      "cell_type": "code",
      "execution_count": 47,
      "metadata": {
        "id": "be4A777oukVc"
      },
      "outputs": [],
      "source": [
        "from keras.models import Sequential\n",
        "from keras.layers import Conv2D, Flatten, Dense, MaxPool2D, Dropout"
      ]
    },
    {
      "cell_type": "code",
      "source": [
        "import tensorflow as tf\n",
        "import numpy as np"
      ],
      "metadata": {
        "id": "aoM0lbgUmR0i"
      },
      "execution_count": 55,
      "outputs": []
    },
    {
      "cell_type": "code",
      "source": [
        "# fixing the random state of nupmy and tf\n",
        "tf.random.set_seed(254)\n",
        "np.random.seed(254)"
      ],
      "metadata": {
        "id": "WH3OLDrzmY7J"
      },
      "execution_count": 60,
      "outputs": []
    },
    {
      "cell_type": "code",
      "source": [
        "# fetching the data\n",
        "data=tf.keras.datasets.fashion_mnist"
      ],
      "metadata": {
        "id": "9H1FxKQrlbxc"
      },
      "execution_count": 61,
      "outputs": []
    },
    {
      "cell_type": "code",
      "execution_count": 62,
      "metadata": {
        "id": "g82D-PBylcR0"
      },
      "outputs": [],
      "source": [
        "# loading the data in train and test variables\n",
        "(train_img,train_lbl),(test_img,test_lbl)=data.load_data()"
      ]
    },
    {
      "cell_type": "code",
      "execution_count": 63,
      "metadata": {
        "colab": {
          "base_uri": "https://localhost:8080/"
        },
        "id": "NmNLpR3vyxgS",
        "outputId": "af59fe48-4c5b-46e2-d5f3-b67c55885ece"
      },
      "outputs": [
        {
          "output_type": "execute_result",
          "data": {
            "text/plain": [
              "(60000, 10000)"
            ]
          },
          "metadata": {},
          "execution_count": 63
        }
      ],
      "source": [
        "len(train_img) , len(test_img) # size of train and test data "
      ]
    },
    {
      "cell_type": "code",
      "execution_count": 64,
      "metadata": {
        "colab": {
          "base_uri": "https://localhost:8080/"
        },
        "id": "1W0H0D1xy9xF",
        "outputId": "fd7c0ba3-c72a-4f9c-d03f-6ed80f3f3d29"
      },
      "outputs": [
        {
          "output_type": "execute_result",
          "data": {
            "text/plain": [
              "(60000, 28, 28)"
            ]
          },
          "metadata": {},
          "execution_count": 64
        }
      ],
      "source": [
        "train_img.shape"
      ]
    },
    {
      "cell_type": "code",
      "execution_count": 65,
      "metadata": {
        "id": "Y30UsofRzUK7"
      },
      "outputs": [],
      "source": [
        "train_img=train_img.reshape(60000,28,28,1)# addding channel to work with CNN\n",
        "train_img=train_img/255.0 # scaling for normalisation"
      ]
    },
    {
      "cell_type": "code",
      "execution_count": 66,
      "metadata": {
        "id": "4EHBfEPAzdu1"
      },
      "outputs": [],
      "source": [
        "test_img=test_img.reshape(10000,28,28,1)\n",
        "test_img=test_img/255.0"
      ]
    },
    {
      "cell_type": "markdown",
      "source": [
        "##Visualising the dataset"
      ],
      "metadata": {
        "id": "cyoGWtdim7KC"
      }
    },
    {
      "cell_type": "code",
      "source": [
        "from matplotlib import pyplot as plt"
      ],
      "metadata": {
        "id": "Tvp5jth2lGVq"
      },
      "execution_count": 67,
      "outputs": []
    },
    {
      "cell_type": "code",
      "source": [
        "# classes in fashion_mnist\n",
        "class_names = [\n",
        "    'T-shirt/top',\n",
        "    'Trouser',\n",
        "    'Pullover',\n",
        "    'Dress',\n",
        "    'Coat',\n",
        "    'Sandal',\n",
        "    'Shirt',\n",
        "    'Sneaker',\n",
        "    'Bag',\n",
        "    'Ankle boot'\n",
        "]"
      ],
      "metadata": {
        "id": "Az0OdZTOnFox"
      },
      "execution_count": 68,
      "outputs": []
    },
    {
      "cell_type": "code",
      "source": [
        "# matplotlib figure setup\n",
        "fig,axes = plt.subplots(nrows=2, ncols=5, figsize=(10, 5))\n",
        "axes = axes.flatten()\n",
        "\n",
        "# Looping through each class for visualising the class\n",
        "for i in range(len(class_names)):\n",
        "    image = train_img[train_lbl == i][0]# Getting the first image belonging to the current class\n",
        "    axes[i].set_title(class_names[i])# setting class titles\n",
        "    axes[i].imshow(image, cmap='gray')\n",
        "    axes[i].axis('off')\n",
        "\n",
        "# show the plot for classes\n",
        "plt.tight_layout()\n",
        "plt.show()"
      ],
      "metadata": {
        "colab": {
          "base_uri": "https://localhost:8080/",
          "height": 473
        },
        "id": "7aHvjoezoJ-i",
        "outputId": "f973cc64-236e-4811-ec58-ec234bc91f1f"
      },
      "execution_count": 75,
      "outputs": [
        {
          "output_type": "display_data",
          "data": {
            "text/plain": [
              "<Figure size 1000x500 with 10 Axes>"
            ],
            "image/png": "[encoded data removed]"
          },
          "metadata": {}
        }
      ]
    },
    {
      "cell_type": "markdown",
      "source": [
        "### Building the model"
      ],
      "metadata": {
        "id": "W40kbr3_kM2U"
      }
    },
    {
      "cell_type": "code",
      "execution_count": 86,
      "metadata": {
        "id": "JneeSlPru5RF"
      },
      "outputs": [],
      "source": [
        "model=Sequential()"
      ]
    },
    {
      "cell_type": "code",
      "execution_count": 88,
      "metadata": {
        "id": "-ydldDICvwLo"
      },
      "outputs": [],
      "source": [
        "model.add(Conv2D(64,kernel_size=5,padding='same',activation='relu',input_shape=[28,28,1]))"
      ]
    },
    {
      "cell_type": "code",
      "execution_count": 89,
      "metadata": {
        "id": "a_P0XQQLwMOI"
      },
      "outputs": [],
      "source": [
        "model.add(Conv2D(128,kernel_size=3,padding='same',activation='relu')) \n",
        "model.add(Conv2D(128,kernel_size=3,padding='same',activation='relu')) "
      ]
    },
    {
      "cell_type": "code",
      "source": [
        "model.add(MaxPool2D(pool_size=2))"
      ],
      "metadata": {
        "id": "xC699PFkqjWZ"
      },
      "execution_count": 90,
      "outputs": []
    },
    {
      "cell_type": "code",
      "execution_count": 91,
      "metadata": {
        "id": "nDf1ZZkAwz4e"
      },
      "outputs": [],
      "source": [
        "model.add(Conv2D(256,kernel_size=3,padding='same',activation='relu')) \n",
        "model.add(Conv2D(256,kernel_size=3,padding='same',activation='relu')) "
      ]
    },
    {
      "cell_type": "code",
      "execution_count": 92,
      "metadata": {
        "id": "Fj_heajbwpuX"
      },
      "outputs": [],
      "source": [
        "model.add(MaxPool2D(pool_size=2))"
      ]
    },
    {
      "cell_type": "code",
      "execution_count": 93,
      "metadata": {
        "id": "f-rzf81kw-L7"
      },
      "outputs": [],
      "source": [
        "#flatten to work with dense network\n",
        "model.add(Flatten())"
      ]
    },
    {
      "cell_type": "code",
      "execution_count": 94,
      "metadata": {
        "id": "fo3_OGmfxKb9"
      },
      "outputs": [],
      "source": [
        "model.add(Dense(128,activation='relu'))\n",
        "model.add(Dense(64,activation='relu'))\n",
        "model.add(Dense(10,activation='softmax')) #output"
      ]
    },
    {
      "cell_type": "code",
      "execution_count": 100,
      "metadata": {
        "colab": {
          "base_uri": "https://localhost:8080/"
        },
        "id": "J7wJgDJzxdQr",
        "outputId": "c49f8be8-9d5d-4605-a319-5ac60f146b47"
      },
      "outputs": [
        {
          "output_type": "stream",
          "name": "stdout",
          "text": [
            "Model: \"sequential_2\"\n",
            "_________________________________________________________________\n",
            " Layer (type)                Output Shape              Param #   \n",
            "=================================================================\n",
            " conv2d_12 (Conv2D)          (None, 28, 28, 64)        1664      \n",
            "                                                                 \n",
            " conv2d_13 (Conv2D)          (None, 28, 28, 128)       73856     \n",
            "                                                                 \n",
            " conv2d_14 (Conv2D)          (None, 28, 28, 128)       147584    \n",
            "                                                                 \n",
            " max_pooling2d_5 (MaxPooling  (None, 14, 14, 128)      0         \n",
            " 2D)                                                             \n",
            "                                                                 \n",
            " conv2d_15 (Conv2D)          (None, 14, 14, 256)       295168    \n",
            "                                                                 \n",
            " conv2d_16 (Conv2D)          (None, 14, 14, 256)       590080    \n",
            "                                                                 \n",
            " max_pooling2d_6 (MaxPooling  (None, 7, 7, 256)        0         \n",
            " 2D)                                                             \n",
            "                                                                 \n",
            " flatten_2 (Flatten)         (None, 12544)             0         \n",
            "                                                                 \n",
            " dense_6 (Dense)             (None, 128)               1605760   \n",
            "                                                                 \n",
            " dense_7 (Dense)             (None, 64)                8256      \n",
            "                                                                 \n",
            " dense_8 (Dense)             (None, 10)                650       \n",
            "                                                                 \n",
            "=================================================================\n",
            "Total params: 2,723,018\n",
            "Trainable params: 2,723,018\n",
            "Non-trainable params: 0\n",
            "_________________________________________________________________\n"
          ]
        }
      ],
      "source": [
        "model.summary()"
      ]
    },
    {
      "cell_type": "code",
      "execution_count": 99,
      "metadata": {
        "id": "7gDsfgJJ0J1k"
      },
      "outputs": [],
      "source": [
        "# Model Compilation\n",
        "model.compile(loss='sparse_categorical_crossentropy',optimizer=keras.optimizers.SGD(),metrics=[keras.metrics.categorical_accuracy])"
      ]
    },
    {
      "cell_type": "code",
      "execution_count": 101,
      "metadata": {
        "colab": {
          "base_uri": "https://localhost:8080/"
        },
        "id": "RSqJiMB20mqO",
        "outputId": "a0d8b3df-de2b-48a1-cc4a-bf01f81bc1d1"
      },
      "outputs": [
        {
          "output_type": "stream",
          "name": "stdout",
          "text": [
            "Epoch 1/10\n",
            "1875/1875 [==============================] - 25s 13ms/step - loss: 0.7975 - categorical_accuracy: 0.0985 - val_loss: 0.4902 - val_categorical_accuracy: 0.1092\n",
            "Epoch 2/10\n",
            "1875/1875 [==============================] - 26s 14ms/step - loss: 0.4363 - categorical_accuracy: 0.1059 - val_loss: 0.4368 - val_categorical_accuracy: 0.0855\n",
            "Epoch 3/10\n",
            "1875/1875 [==============================] - 26s 14ms/step - loss: 0.3668 - categorical_accuracy: 0.1050 - val_loss: 0.3734 - val_categorical_accuracy: 0.0849\n",
            "Epoch 4/10\n",
            "1875/1875 [==============================] - 24s 13ms/step - loss: 0.3261 - categorical_accuracy: 0.1036 - val_loss: 0.3413 - val_categorical_accuracy: 0.1133\n",
            "Epoch 5/10\n",
            "1875/1875 [==============================] - 24s 13ms/step - loss: 0.2962 - categorical_accuracy: 0.1031 - val_loss: 0.3112 - val_categorical_accuracy: 0.1165\n",
            "Epoch 6/10\n",
            "1875/1875 [==============================] - 26s 14ms/step - loss: 0.2723 - categorical_accuracy: 0.1024 - val_loss: 0.3087 - val_categorical_accuracy: 0.0986\n",
            "Epoch 7/10\n",
            "1875/1875 [==============================] - 25s 13ms/step - loss: 0.2527 - categorical_accuracy: 0.1023 - val_loss: 0.2884 - val_categorical_accuracy: 0.0989\n",
            "Epoch 8/10\n",
            "1875/1875 [==============================] - 25s 13ms/step - loss: 0.2359 - categorical_accuracy: 0.1019 - val_loss: 0.2880 - val_categorical_accuracy: 0.0981\n",
            "Epoch 9/10\n",
            "1875/1875 [==============================] - 25s 13ms/step - loss: 0.2214 - categorical_accuracy: 0.1015 - val_loss: 0.2760 - val_categorical_accuracy: 0.0977\n",
            "Epoch 10/10\n",
            "1875/1875 [==============================] - 25s 13ms/step - loss: 0.2083 - categorical_accuracy: 0.1008 - val_loss: 0.2807 - val_categorical_accuracy: 0.0994\n"
          ]
        }
      ],
      "source": [
        "#training the model\n",
        "history=model.fit(train_img,train_lbl,epochs=10,validation_data=(test_img,test_lbl))"
      ]
    },
    {
      "cell_type": "code",
      "source": [
        "history.history.keys()"
      ],
      "metadata": {
        "colab": {
          "base_uri": "https://localhost:8080/"
        },
        "id": "K-JG1CiYiJNj",
        "outputId": "b6d5dae6-04bb-4d92-ac40-04132782b23f"
      },
      "execution_count": 102,
      "outputs": [
        {
          "output_type": "execute_result",
          "data": {
            "text/plain": [
              "dict_keys(['loss', 'categorical_accuracy', 'val_loss', 'val_categorical_accuracy'])"
            ]
          },
          "metadata": {},
          "execution_count": 102
        }
      ]
    },
    {
      "cell_type": "code",
      "source": [
        "history.history['categorical_accuracy']"
      ],
      "metadata": {
        "colab": {
          "base_uri": "https://localhost:8080/"
        },
        "id": "MsKE1onTidDi",
        "outputId": "b1fedb7f-7eef-4b20-a28f-d1a7cdf25c27"
      },
      "execution_count": 104,
      "outputs": [
        {
          "output_type": "execute_result",
          "data": {
            "text/plain": [
              "[0.0984666645526886,\n",
              " 0.10591666400432587,\n",
              " 0.10503333061933517,\n",
              " 0.10360000282526016,\n",
              " 0.10311666876077652,\n",
              " 0.10243333131074905,\n",
              " 0.1023000031709671,\n",
              " 0.10188333690166473,\n",
              " 0.1014999970793724,\n",
              " 0.10083333402872086]"
            ]
          },
          "metadata": {},
          "execution_count": 104
        }
      ]
    },
    {
      "cell_type": "markdown",
      "source": [
        "# using a random instances for prediction"
      ],
      "metadata": {
        "id": "JdnxG1LVtDxW"
      }
    },
    {
      "cell_type": "code",
      "source": [
        "print(np.argmax(model.predict(train_img[29].reshape(1,28,28,1))))"
      ],
      "metadata": {
        "colab": {
          "base_uri": "https://localhost:8080/"
        },
        "id": "E0dJCSpAi78K",
        "outputId": "21e1499a-5fd5-4cb0-bd3d-9a06520e5602"
      },
      "execution_count": 111,
      "outputs": [
        {
          "output_type": "stream",
          "name": "stdout",
          "text": [
            "1/1 [==============================] - 0s 18ms/step\n",
            "4\n"
          ]
        }
      ]
    },
    {
      "cell_type": "code",
      "source": [
        "class_names[train_lbl[29]]"
      ],
      "metadata": {
        "colab": {
          "base_uri": "https://localhost:8080/",
          "height": 35
        },
        "id": "lJ_A7qMUtOJm",
        "outputId": "7c5ce497-a1ab-44fe-8548-25a2494b85a7"
      },
      "execution_count": 110,
      "outputs": [
        {
          "output_type": "execute_result",
          "data": {
            "text/plain": [
              "'Coat'"
            ],
            "application/vnd.google.colaboratory.intrinsic+json": {
              "type": "string"
            }
          },
          "metadata": {},
          "execution_count": 110
        }
      ]
    },
    {
      "cell_type": "code",
      "source": [
        "plt.imshow(train_img[29],cmap='gray')"
      ],
      "metadata": {
        "colab": {
          "base_uri": "https://localhost:8080/",
          "height": 447
        },
        "id": "CgDOHuDmtZPN",
        "outputId": "4a584ff6-b342-437a-e88e-abc32f205c72"
      },
      "execution_count": 113,
      "outputs": [
        {
          "output_type": "execute_result",
          "data": {
            "text/plain": [
              "<matplotlib.image.AxesImage at 0x7f27c8870af0>"
            ]
          },
          "metadata": {},
          "execution_count": 113
        },
        {
          "output_type": "display_data",
          "data": {
            "text/plain": [
              "<Figure size 640x480 with 1 Axes>"
            ],
            "image/png": "[encoded data removed]"
          },
          "metadata": {}
        }
      ]
    }
  ],
  "metadata": {
    "colab": {
      "provenance": [],
      "gpuType": "T4"
    },
    "kernelspec": {
      "display_name": "Python 3",
      "name": "python3"
    },
    "language_info": {
      "name": "python"
    },
    "accelerator": "GPU"
  },
  "nbformat": 4,
  "nbformat_minor": 0
}